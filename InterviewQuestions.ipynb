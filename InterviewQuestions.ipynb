{
 "cells": [
  {
   "cell_type": "code",
   "execution_count": null,
   "metadata": {},
   "outputs": [],
   "source": [
    "Assignment Week 12 questions "
   ]
  },
  {
   "attachments": {},
   "cell_type": "markdown",
   "metadata": {},
   "source": [
    "Algorithm Understanding\n",
    "# How does the Prophet Algorithm differ from an LSTM?\n",
    "# prophet is a time series forecasting algorithm that is based on an additive model where non-linear trends are fit with yearly, weekly, and daily seasonality, plus holiday effects. It works best with time series that have strong seasonal effects and several seasons of historical data. Prophet is robust to missing data, shifts in the trend, and large outliers. LSTM is a type of recurrent neural network that is used\n",
    "# Why does an LSTM have poor performance against ARIMA and Profit for Time Series\n",
    "# LSTM does not have a good performance against ARIMA and Prophet because LSTM focuses on the sequence of the data and not the data itself. ARIMA and Prophet are more focused on the data itself and not the sequence of the data.\n",
    "\n",
    " What is exponential smoothing and why is it used in Time Series Forecasting?\n",
    "# Exponential smoothing is a method of smoothing time series data to remove noise and better highlight the underlying trend. Timeseries data is often noisy, meaning that it contains random variations around a trend. Exponential smoothing is a method of smoothing time series data to remove noise and better highlight the underlying trend. Timeseries data noise may arise due to random variations or due to missing data. Natural catastrophes, such as earthquakes, hurricanes, and tsunamis, are examples of random variations. Missing data may arise due to equipment failure, human error, or other reasons.\n",
    "# What is stationarity? What is seasonality? Why Is Stationarity Important in Time Series Forecasting?\n",
    "\n",
    "1 pts\n",
    "This criterion is linked to a Learning Outcome Interview Readiness\n",
    "How is seasonality different from cyclicality? Fill in the blanks: \n",
    "___ is predictable, whereas ___ is not."
   ]
  }
 ],
 "metadata": {
  "language_info": {
   "name": "python"
  },
  "orig_nbformat": 4
 },
 "nbformat": 4,
 "nbformat_minor": 2
}
